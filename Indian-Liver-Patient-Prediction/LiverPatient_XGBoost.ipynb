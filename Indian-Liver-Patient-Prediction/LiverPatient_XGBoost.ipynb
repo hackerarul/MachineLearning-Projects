{
  "nbformat": 4,
  "nbformat_minor": 0,
  "metadata": {
    "colab": {
      "name": "LiverPatient_XGBoost.ipynb",
      "provenance": [],
      "collapsed_sections": []
    },
    "kernelspec": {
      "name": "python3",
      "display_name": "Python 3"
    }
  },
  "cells": [
    {
      "cell_type": "markdown",
      "metadata": {
        "id": "o6FzXR4h7InV",
        "colab_type": "text"
      },
      "source": [
        "**Liver Patient prediction using the XgBoost Ensemble learning technique.**"
      ]
    },
    {
      "cell_type": "code",
      "metadata": {
        "id": "mn3Ikyek6sqy",
        "colab_type": "code",
        "colab": {}
      },
      "source": [
        "import xgboost as xgb\n",
        "import pandas as pd\n",
        "from sklearn.model_selection import train_test_split,GridSearchCV\n",
        "from sklearn.preprocessing import MinMaxScaler\n",
        "from sklearn.metrics import accuracy_score\n",
        "import numpy as np\n"
      ],
      "execution_count": 0,
      "outputs": []
    },
    {
      "cell_type": "markdown",
      "metadata": {
        "id": "Rd6bCwoP7voi",
        "colab_type": "text"
      },
      "source": [
        "**Data Preparation:**"
      ]
    },
    {
      "cell_type": "code",
      "metadata": {
        "id": "1TvY0RrH72rO",
        "colab_type": "code",
        "colab": {}
      },
      "source": [
        "class Preprocess(object):\n",
        "  def __init__(self):\n",
        "    self.url = \"https://archive.ics.uci.edu/ml/machine-learning-databases/00225/Indian%20Liver%20Patient%20Dataset%20(ILPD).csv\"\n",
        "    self.cols = ['age','gender','TB','DB','alkphos','sgpt','sgot','TP','albumin','AG_ratio','Is_liverPatient']\n",
        "    self.dataset = None\n",
        "  \n",
        "  def load_data(self):\n",
        "    self.dataset = pd.read_csv(self.url,names=self.cols)\n",
        "    print('shape of df :',self.dataset.shape)\n",
        "    return self.dataset\n",
        "  \n",
        "  def preprocess(self,data):\n",
        "    #preprocessing the data\n",
        "    # 1. Removing the duplicate rows\n",
        "    self.dataset = data.drop_duplicates()\n",
        "    print('Shape after removing the duplicates :',self.dataset.shape)\n",
        "    # checking for the Null values, #display no of null values by column\n",
        "    print(self.dataset.isnull().sum())\n",
        "    #dropping the 4 rows here\n",
        "    self.dataset = self.dataset[pd.notnull(self.dataset['AG_ratio'])]\n",
        "    return None\n",
        "  \n",
        "  def encode_label(self):\n",
        "    #changing the gender attribute to categorical type\n",
        "    # 0 is for 'Female' and 1 for 'Male\n",
        "    self.dataset['gender'] = self.dataset['gender'].apply(lambda x: 0 if(x == 'Female') else 1)\n",
        "    #self.dataset.gender = pd.factorize(self.dataset.gender)[0] + 0.0\n",
        "    #Encoding the label for proper implementation in network (1 neuron in the output layer)\n",
        "    # Label 1 means \"a liver patient\" so encoding as 1\n",
        "    # Label 2 means \"not a liver patient\" so encoding as 0\n",
        "    self.dataset['Is_liverPatient'] = self.dataset['Is_liverPatient'].apply(lambda x: 0 if(x == 2) else x)\n",
        "    #self.dataset.loc[(self.dataset.Is_liverPatient == 2), 'Is_liverPatient'] = 0\n",
        "    return None\n",
        "  \n",
        "  def scaleData(self):\n",
        "    #Scaling the attribute values to be between [0,1]\n",
        "    scaler = MinMaxScaler()\n",
        "    cols_to_scale = ['age', 'TB', 'DB', 'alkphos', 'sgpt', 'sgot', 'TP', 'albumin', 'AG_ratio']\n",
        "    Dataset = pd.DataFrame(data=self.dataset)\n",
        "    self.dataset[cols_to_scale] = scaler.fit_transform(Dataset[cols_to_scale])\n",
        "    return None\n",
        "  \n",
        "  def get_dataset(self):\n",
        "    return self.dataset"
      ],
      "execution_count": 0,
      "outputs": []
    },
    {
      "cell_type": "code",
      "metadata": {
        "id": "GBgwihTh75-o",
        "colab_type": "code",
        "colab": {
          "base_uri": "https://localhost:8080/",
          "height": 255
        },
        "outputId": "8ea23dca-3d8b-4933-a653-cde861904150"
      },
      "source": [
        "prep = Preprocess()\n",
        "dataset = prep.load_data()\n",
        "prep.preprocess(dataset)\n",
        "prep.encode_label()\n",
        "#prep.scaleData()\n",
        "dataset = prep.get_dataset()"
      ],
      "execution_count": 3,
      "outputs": [
        {
          "output_type": "stream",
          "text": [
            "shape of df : (583, 11)\n",
            "Shape after removing the duplicates : (570, 11)\n",
            "age                0\n",
            "gender             0\n",
            "TB                 0\n",
            "DB                 0\n",
            "alkphos            0\n",
            "sgpt               0\n",
            "sgot               0\n",
            "TP                 0\n",
            "albumin            0\n",
            "AG_ratio           4\n",
            "Is_liverPatient    0\n",
            "dtype: int64\n"
          ],
          "name": "stdout"
        }
      ]
    },
    {
      "cell_type": "code",
      "metadata": {
        "id": "Ug1Mt7mX8Ap7",
        "colab_type": "code",
        "colab": {
          "base_uri": "https://localhost:8080/",
          "height": 419
        },
        "outputId": "0ee50651-13f7-401d-c010-f09dc386a198"
      },
      "source": [
        "dataset"
      ],
      "execution_count": 4,
      "outputs": [
        {
          "output_type": "execute_result",
          "data": {
            "text/html": [
              "<div>\n",
              "<style scoped>\n",
              "    .dataframe tbody tr th:only-of-type {\n",
              "        vertical-align: middle;\n",
              "    }\n",
              "\n",
              "    .dataframe tbody tr th {\n",
              "        vertical-align: top;\n",
              "    }\n",
              "\n",
              "    .dataframe thead th {\n",
              "        text-align: right;\n",
              "    }\n",
              "</style>\n",
              "<table border=\"1\" class=\"dataframe\">\n",
              "  <thead>\n",
              "    <tr style=\"text-align: right;\">\n",
              "      <th></th>\n",
              "      <th>age</th>\n",
              "      <th>gender</th>\n",
              "      <th>TB</th>\n",
              "      <th>DB</th>\n",
              "      <th>alkphos</th>\n",
              "      <th>sgpt</th>\n",
              "      <th>sgot</th>\n",
              "      <th>TP</th>\n",
              "      <th>albumin</th>\n",
              "      <th>AG_ratio</th>\n",
              "      <th>Is_liverPatient</th>\n",
              "    </tr>\n",
              "  </thead>\n",
              "  <tbody>\n",
              "    <tr>\n",
              "      <th>0</th>\n",
              "      <td>65</td>\n",
              "      <td>0</td>\n",
              "      <td>0.7</td>\n",
              "      <td>0.1</td>\n",
              "      <td>187</td>\n",
              "      <td>16</td>\n",
              "      <td>18</td>\n",
              "      <td>6.8</td>\n",
              "      <td>3.3</td>\n",
              "      <td>0.90</td>\n",
              "      <td>1</td>\n",
              "    </tr>\n",
              "    <tr>\n",
              "      <th>1</th>\n",
              "      <td>62</td>\n",
              "      <td>1</td>\n",
              "      <td>10.9</td>\n",
              "      <td>5.5</td>\n",
              "      <td>699</td>\n",
              "      <td>64</td>\n",
              "      <td>100</td>\n",
              "      <td>7.5</td>\n",
              "      <td>3.2</td>\n",
              "      <td>0.74</td>\n",
              "      <td>1</td>\n",
              "    </tr>\n",
              "    <tr>\n",
              "      <th>2</th>\n",
              "      <td>62</td>\n",
              "      <td>1</td>\n",
              "      <td>7.3</td>\n",
              "      <td>4.1</td>\n",
              "      <td>490</td>\n",
              "      <td>60</td>\n",
              "      <td>68</td>\n",
              "      <td>7.0</td>\n",
              "      <td>3.3</td>\n",
              "      <td>0.89</td>\n",
              "      <td>1</td>\n",
              "    </tr>\n",
              "    <tr>\n",
              "      <th>3</th>\n",
              "      <td>58</td>\n",
              "      <td>1</td>\n",
              "      <td>1.0</td>\n",
              "      <td>0.4</td>\n",
              "      <td>182</td>\n",
              "      <td>14</td>\n",
              "      <td>20</td>\n",
              "      <td>6.8</td>\n",
              "      <td>3.4</td>\n",
              "      <td>1.00</td>\n",
              "      <td>1</td>\n",
              "    </tr>\n",
              "    <tr>\n",
              "      <th>4</th>\n",
              "      <td>72</td>\n",
              "      <td>1</td>\n",
              "      <td>3.9</td>\n",
              "      <td>2.0</td>\n",
              "      <td>195</td>\n",
              "      <td>27</td>\n",
              "      <td>59</td>\n",
              "      <td>7.3</td>\n",
              "      <td>2.4</td>\n",
              "      <td>0.40</td>\n",
              "      <td>1</td>\n",
              "    </tr>\n",
              "    <tr>\n",
              "      <th>...</th>\n",
              "      <td>...</td>\n",
              "      <td>...</td>\n",
              "      <td>...</td>\n",
              "      <td>...</td>\n",
              "      <td>...</td>\n",
              "      <td>...</td>\n",
              "      <td>...</td>\n",
              "      <td>...</td>\n",
              "      <td>...</td>\n",
              "      <td>...</td>\n",
              "      <td>...</td>\n",
              "    </tr>\n",
              "    <tr>\n",
              "      <th>578</th>\n",
              "      <td>60</td>\n",
              "      <td>1</td>\n",
              "      <td>0.5</td>\n",
              "      <td>0.1</td>\n",
              "      <td>500</td>\n",
              "      <td>20</td>\n",
              "      <td>34</td>\n",
              "      <td>5.9</td>\n",
              "      <td>1.6</td>\n",
              "      <td>0.37</td>\n",
              "      <td>0</td>\n",
              "    </tr>\n",
              "    <tr>\n",
              "      <th>579</th>\n",
              "      <td>40</td>\n",
              "      <td>1</td>\n",
              "      <td>0.6</td>\n",
              "      <td>0.1</td>\n",
              "      <td>98</td>\n",
              "      <td>35</td>\n",
              "      <td>31</td>\n",
              "      <td>6.0</td>\n",
              "      <td>3.2</td>\n",
              "      <td>1.10</td>\n",
              "      <td>1</td>\n",
              "    </tr>\n",
              "    <tr>\n",
              "      <th>580</th>\n",
              "      <td>52</td>\n",
              "      <td>1</td>\n",
              "      <td>0.8</td>\n",
              "      <td>0.2</td>\n",
              "      <td>245</td>\n",
              "      <td>48</td>\n",
              "      <td>49</td>\n",
              "      <td>6.4</td>\n",
              "      <td>3.2</td>\n",
              "      <td>1.00</td>\n",
              "      <td>1</td>\n",
              "    </tr>\n",
              "    <tr>\n",
              "      <th>581</th>\n",
              "      <td>31</td>\n",
              "      <td>1</td>\n",
              "      <td>1.3</td>\n",
              "      <td>0.5</td>\n",
              "      <td>184</td>\n",
              "      <td>29</td>\n",
              "      <td>32</td>\n",
              "      <td>6.8</td>\n",
              "      <td>3.4</td>\n",
              "      <td>1.00</td>\n",
              "      <td>1</td>\n",
              "    </tr>\n",
              "    <tr>\n",
              "      <th>582</th>\n",
              "      <td>38</td>\n",
              "      <td>1</td>\n",
              "      <td>1.0</td>\n",
              "      <td>0.3</td>\n",
              "      <td>216</td>\n",
              "      <td>21</td>\n",
              "      <td>24</td>\n",
              "      <td>7.3</td>\n",
              "      <td>4.4</td>\n",
              "      <td>1.50</td>\n",
              "      <td>0</td>\n",
              "    </tr>\n",
              "  </tbody>\n",
              "</table>\n",
              "<p>566 rows × 11 columns</p>\n",
              "</div>"
            ],
            "text/plain": [
              "     age  gender    TB   DB  ...   TP  albumin  AG_ratio  Is_liverPatient\n",
              "0     65       0   0.7  0.1  ...  6.8      3.3      0.90                1\n",
              "1     62       1  10.9  5.5  ...  7.5      3.2      0.74                1\n",
              "2     62       1   7.3  4.1  ...  7.0      3.3      0.89                1\n",
              "3     58       1   1.0  0.4  ...  6.8      3.4      1.00                1\n",
              "4     72       1   3.9  2.0  ...  7.3      2.4      0.40                1\n",
              "..   ...     ...   ...  ...  ...  ...      ...       ...              ...\n",
              "578   60       1   0.5  0.1  ...  5.9      1.6      0.37                0\n",
              "579   40       1   0.6  0.1  ...  6.0      3.2      1.10                1\n",
              "580   52       1   0.8  0.2  ...  6.4      3.2      1.00                1\n",
              "581   31       1   1.3  0.5  ...  6.8      3.4      1.00                1\n",
              "582   38       1   1.0  0.3  ...  7.3      4.4      1.50                0\n",
              "\n",
              "[566 rows x 11 columns]"
            ]
          },
          "metadata": {
            "tags": []
          },
          "execution_count": 4
        }
      ]
    },
    {
      "cell_type": "code",
      "metadata": {
        "id": "K6qcCchK8CMu",
        "colab_type": "code",
        "colab": {}
      },
      "source": [
        "# Taking the label out of the original preprocessed dataset\n",
        "X = dataset[['age', 'gender', 'TB', 'DB', 'alkphos', 'sgpt', 'sgot', 'TP', 'albumin', 'AG_ratio']]\n",
        "y = dataset['Is_liverPatient']"
      ],
      "execution_count": 0,
      "outputs": []
    },
    {
      "cell_type": "markdown",
      "metadata": {
        "id": "X5hdFu2K8MR4",
        "colab_type": "text"
      },
      "source": [
        "***Building the XgBoost model without cross-validation***"
      ]
    },
    {
      "cell_type": "code",
      "metadata": {
        "id": "QjX8TRn68TGe",
        "colab_type": "code",
        "colab": {}
      },
      "source": [
        "# splitting the dataset into train-test splits\n",
        "X_train,X_test,y_train,y_test = train_test_split(X,y,test_size=0.30)"
      ],
      "execution_count": 0,
      "outputs": []
    },
    {
      "cell_type": "code",
      "metadata": {
        "id": "L2HN7au39pmc",
        "colab_type": "code",
        "colab": {}
      },
      "source": [
        "#defining the XGBClassifer\n",
        "xgb_cl = xgb.XGBClassifier(max_depth=5,learning_rate=1,n_estimators=50,objective='binary:logistic')"
      ],
      "execution_count": 0,
      "outputs": []
    },
    {
      "cell_type": "code",
      "metadata": {
        "id": "Xixa6Ykw-GRR",
        "colab_type": "code",
        "colab": {
          "base_uri": "https://localhost:8080/",
          "height": 136
        },
        "outputId": "614b28a8-3108-4a4b-b24f-fbf4b81b9941"
      },
      "source": [
        "xgb_cl.fit(X_train,y_train)"
      ],
      "execution_count": 71,
      "outputs": [
        {
          "output_type": "execute_result",
          "data": {
            "text/plain": [
              "XGBClassifier(base_score=0.5, booster='gbtree', colsample_bylevel=1,\n",
              "              colsample_bynode=1, colsample_bytree=1, gamma=0, learning_rate=1,\n",
              "              max_delta_step=0, max_depth=5, min_child_weight=1, missing=None,\n",
              "              n_estimators=50, n_jobs=1, nthread=None,\n",
              "              objective='binary:logistic', random_state=0, reg_alpha=0,\n",
              "              reg_lambda=1, scale_pos_weight=1, seed=None, silent=None,\n",
              "              subsample=1, verbosity=1)"
            ]
          },
          "metadata": {
            "tags": []
          },
          "execution_count": 71
        }
      ]
    },
    {
      "cell_type": "code",
      "metadata": {
        "id": "YA-R4n0n-9ZM",
        "colab_type": "code",
        "colab": {
          "base_uri": "https://localhost:8080/",
          "height": 51
        },
        "outputId": "ee970be5-f06b-4b81-9e3e-950cc148854d"
      },
      "source": [
        "y_pred = xgb_cl.predict(X_test)\n",
        "print('Accuracy :',accuracy_score(y_test,y_pred))\n",
        "print('Accuracy mannual calculation :',float(np.sum(y_pred == y_test))/y_test.shape[0])"
      ],
      "execution_count": 72,
      "outputs": [
        {
          "output_type": "stream",
          "text": [
            "Accuracy : 0.6705882352941176\n",
            "Accuracy mannual calculation : 0.6705882352941176\n"
          ],
          "name": "stdout"
        }
      ]
    },
    {
      "cell_type": "markdown",
      "metadata": {
        "id": "-ehut6eD_6Wu",
        "colab_type": "text"
      },
      "source": [
        "***Model Evaluation using XgBoost API with cross-validation***"
      ]
    },
    {
      "cell_type": "code",
      "metadata": {
        "id": "9K0fUIcLAD0B",
        "colab_type": "code",
        "colab": {}
      },
      "source": [
        "#creating the DMatrix from x and y \n",
        "dmatrix = xgb.DMatrix(data=X, label=y)\n",
        "#Creating the params dictionary with required parameters\n",
        "params = {'objective' : 'binary:logistic', 'max_depth' : 4}"
      ],
      "execution_count": 0,
      "outputs": []
    },
    {
      "cell_type": "code",
      "metadata": {
        "id": "IHLLt42wAvV_",
        "colab_type": "code",
        "colab": {}
      },
      "source": [
        "#Starting the cross validation process\n",
        "cv_results = xgb.cv(params=params,dtrain=dmatrix,num_boost_round=10,nfold=3,metrics='error',as_pandas=True)"
      ],
      "execution_count": 0,
      "outputs": []
    },
    {
      "cell_type": "code",
      "metadata": {
        "id": "G-jzzkTTBOva",
        "colab_type": "code",
        "colab": {
          "base_uri": "https://localhost:8080/",
          "height": 34
        },
        "outputId": "64be64db-2a30-48c8-bf70-cf56bfb8bf8f"
      },
      "source": [
        "print('Accuracy : %f' %((1-cv_results['test-error-mean']).iloc[-1]))"
      ],
      "execution_count": 54,
      "outputs": [
        {
          "output_type": "stream",
          "text": [
            "Accuracy : 0.687287\n"
          ],
          "name": "stdout"
        }
      ]
    },
    {
      "cell_type": "code",
      "metadata": {
        "id": "K0HInGFQBl9T",
        "colab_type": "code",
        "colab": {}
      },
      "source": [
        "cv_results_auc = xgb.cv(params=params,dtrain=dmatrix,num_boost_round=10,nfold=3,metrics='auc',as_pandas=True)"
      ],
      "execution_count": 0,
      "outputs": []
    },
    {
      "cell_type": "code",
      "metadata": {
        "id": "t1FejTaeBrYL",
        "colab_type": "code",
        "colab": {
          "base_uri": "https://localhost:8080/",
          "height": 34
        },
        "outputId": "52f15364-b4e1-4827-f2d0-bfab87d9c4a5"
      },
      "source": [
        "print('Accuracy : %.4f' %((1-cv_results_auc['test-auc-mean']).iloc[-1]))"
      ],
      "execution_count": 56,
      "outputs": [
        {
          "output_type": "stream",
          "text": [
            "Accuracy : 0.2615\n"
          ],
          "name": "stdout"
        }
      ]
    },
    {
      "cell_type": "markdown",
      "metadata": {
        "id": "mNrIIml0DJr0",
        "colab_type": "text"
      },
      "source": [
        "**Tuning the parameters using GridSearchCV**"
      ]
    },
    {
      "cell_type": "code",
      "metadata": {
        "id": "iFuCGW73DQt5",
        "colab_type": "code",
        "colab": {}
      },
      "source": [
        "# The data is = x,y\n",
        "# the estimator:\n",
        "estimator = xgb.XGBClassifier()\n",
        "# List the parameters\n",
        "params = {\n",
        " 'n_estimators': [50, 100, 500, 10],\n",
        " 'learning_rate' : [0.01, 0.05, 1, 0.5],\n",
        " 'max_depth' : [3,4,5,10]\n",
        " }"
      ],
      "execution_count": 0,
      "outputs": []
    },
    {
      "cell_type": "code",
      "metadata": {
        "id": "sYyQRm3hDUqo",
        "colab_type": "code",
        "colab": {}
      },
      "source": [
        "#building the GridSearchCV \n",
        "gscv = GridSearchCV(estimator=estimator,param_grid=params,cv=5,verbose=1,return_train_score=True)"
      ],
      "execution_count": 0,
      "outputs": []
    },
    {
      "cell_type": "code",
      "metadata": {
        "id": "ZiVVezBtEQD5",
        "colab_type": "code",
        "colab": {
          "base_uri": "https://localhost:8080/",
          "height": 357
        },
        "outputId": "7bd714bb-28cc-4057-8462-f6c992ac79fe"
      },
      "source": [
        "#fitting the data to the GridSearchCV model\n",
        "gscv.fit(X,y)"
      ],
      "execution_count": 61,
      "outputs": [
        {
          "output_type": "stream",
          "text": [
            "Fitting 5 folds for each of 64 candidates, totalling 320 fits\n"
          ],
          "name": "stdout"
        },
        {
          "output_type": "stream",
          "text": [
            "[Parallel(n_jobs=1)]: Using backend SequentialBackend with 1 concurrent workers.\n",
            "[Parallel(n_jobs=1)]: Done 320 out of 320 | elapsed:   27.6s finished\n"
          ],
          "name": "stderr"
        },
        {
          "output_type": "execute_result",
          "data": {
            "text/plain": [
              "GridSearchCV(cv=5, error_score=nan,\n",
              "             estimator=XGBClassifier(base_score=0.5, booster='gbtree',\n",
              "                                     colsample_bylevel=1, colsample_bynode=1,\n",
              "                                     colsample_bytree=1, gamma=0,\n",
              "                                     learning_rate=0.1, max_delta_step=0,\n",
              "                                     max_depth=3, min_child_weight=1,\n",
              "                                     missing=None, n_estimators=100, n_jobs=1,\n",
              "                                     nthread=None, objective='binary:logistic',\n",
              "                                     random_state=0, reg_alpha=0, reg_lambda=1,\n",
              "                                     scale_pos_weight=1, seed=None, silent=None,\n",
              "                                     subsample=1, verbosity=1),\n",
              "             iid='deprecated', n_jobs=None,\n",
              "             param_grid={'learning_rate': [0.01, 0.05, 1, 0.5],\n",
              "                         'max_depth': [3, 4, 5, 10],\n",
              "                         'n_estimators': [50, 100, 500, 10]},\n",
              "             pre_dispatch='2*n_jobs', refit=True, return_train_score=True,\n",
              "             scoring=None, verbose=1)"
            ]
          },
          "metadata": {
            "tags": []
          },
          "execution_count": 61
        }
      ]
    },
    {
      "cell_type": "code",
      "metadata": {
        "id": "Y3M-mlCLET80",
        "colab_type": "code",
        "colab": {
          "base_uri": "https://localhost:8080/",
          "height": 51
        },
        "outputId": "0bdd6bdc-d01a-4b3c-edf1-0c915d4b22d3"
      },
      "source": [
        "print(gscv.best_params_)\n",
        "print(gscv.best_score_)"
      ],
      "execution_count": 62,
      "outputs": [
        {
          "output_type": "stream",
          "text": [
            "{'learning_rate': 1, 'max_depth': 3, 'n_estimators': 50}\n",
            "0.6996584381307251\n"
          ],
          "name": "stdout"
        }
      ]
    },
    {
      "cell_type": "code",
      "metadata": {
        "id": "oiPgI2PhEU9c",
        "colab_type": "code",
        "colab": {
          "base_uri": "https://localhost:8080/",
          "height": 136
        },
        "outputId": "17c64baf-f0bd-4f12-af1b-906d4f38afea"
      },
      "source": [
        "best_estimator = gscv.best_estimator_\n",
        "print(best_estimator)"
      ],
      "execution_count": 63,
      "outputs": [
        {
          "output_type": "stream",
          "text": [
            "XGBClassifier(base_score=0.5, booster='gbtree', colsample_bylevel=1,\n",
            "              colsample_bynode=1, colsample_bytree=1, gamma=0, learning_rate=1,\n",
            "              max_delta_step=0, max_depth=3, min_child_weight=1, missing=None,\n",
            "              n_estimators=50, n_jobs=1, nthread=None,\n",
            "              objective='binary:logistic', random_state=0, reg_alpha=0,\n",
            "              reg_lambda=1, scale_pos_weight=1, seed=None, silent=None,\n",
            "              subsample=1, verbosity=1)\n"
          ],
          "name": "stdout"
        }
      ]
    },
    {
      "cell_type": "code",
      "metadata": {
        "id": "rEJtrxGLEYlg",
        "colab_type": "code",
        "colab": {
          "base_uri": "https://localhost:8080/",
          "height": 136
        },
        "outputId": "1fd2556e-7a84-46af-c609-b43277a149cc"
      },
      "source": [
        "best_estimator.fit(X_train,y_train)"
      ],
      "execution_count": 64,
      "outputs": [
        {
          "output_type": "execute_result",
          "data": {
            "text/plain": [
              "XGBClassifier(base_score=0.5, booster='gbtree', colsample_bylevel=1,\n",
              "              colsample_bynode=1, colsample_bytree=1, gamma=0, learning_rate=1,\n",
              "              max_delta_step=0, max_depth=3, min_child_weight=1, missing=None,\n",
              "              n_estimators=50, n_jobs=1, nthread=None,\n",
              "              objective='binary:logistic', random_state=0, reg_alpha=0,\n",
              "              reg_lambda=1, scale_pos_weight=1, seed=None, silent=None,\n",
              "              subsample=1, verbosity=1)"
            ]
          },
          "metadata": {
            "tags": []
          },
          "execution_count": 64
        }
      ]
    },
    {
      "cell_type": "code",
      "metadata": {
        "id": "QSXVok_QEch6",
        "colab_type": "code",
        "colab": {
          "base_uri": "https://localhost:8080/",
          "height": 34
        },
        "outputId": "2283d676-196d-4727-d9b1-c7ac0f253e09"
      },
      "source": [
        " y_pred = best_estimator.predict(X_test)\n",
        " accuracy_score(y_test,y_pred)"
      ],
      "execution_count": 65,
      "outputs": [
        {
          "output_type": "execute_result",
          "data": {
            "text/plain": [
              "0.6647058823529411"
            ]
          },
          "metadata": {
            "tags": []
          },
          "execution_count": 65
        }
      ]
    },
    {
      "cell_type": "markdown",
      "metadata": {
        "id": "lXOe0yiPDA5f",
        "colab_type": "text"
      },
      "source": [
        "The max achievable accuracy using XGBoost is **70%**"
      ]
    }
  ]
}
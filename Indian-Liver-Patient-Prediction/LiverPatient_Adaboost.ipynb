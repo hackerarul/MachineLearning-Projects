{
  "nbformat": 4,
  "nbformat_minor": 0,
  "metadata": {
    "colab": {
      "name": "LiverPatient_Adaboost.ipynb",
      "provenance": [],
      "collapsed_sections": []
    },
    "kernelspec": {
      "name": "python3",
      "display_name": "Python 3"
    }
  },
  "cells": [
    {
      "cell_type": "markdown",
      "metadata": {
        "id": "eG90HEm0uwmn",
        "colab_type": "text"
      },
      "source": [
        "**Liver Patient prediction using Boosting - \"Adaboost\" ensemble learning algorithm.**"
      ]
    },
    {
      "cell_type": "code",
      "metadata": {
        "id": "d4IOJlVcupkr",
        "colab_type": "code",
        "colab": {}
      },
      "source": [
        "#Loading the required libraries\n",
        "import pandas as pd\n",
        "import seaborn as sns\n",
        "import matplotlib.pyplot as plt\n",
        "from sklearn.model_selection import train_test_split, GridSearchCV\n",
        "from sklearn.ensemble import AdaBoostClassifier\n",
        "from sklearn.metrics import confusion_matrix,accuracy_score\n",
        "from sklearn.tree import DecisionTreeClassifier\n",
        "from sklearn.svm import SVC"
      ],
      "execution_count": 0,
      "outputs": []
    },
    {
      "cell_type": "markdown",
      "metadata": {
        "id": "634NqMYWvIXa",
        "colab_type": "text"
      },
      "source": [
        "**Data Preprocessing**"
      ]
    },
    {
      "cell_type": "code",
      "metadata": {
        "id": "ZX1Rq9PvvFN6",
        "colab_type": "code",
        "colab": {}
      },
      "source": [
        "class Preprocess(object):\n",
        "  def __init__(self):\n",
        "    self.url = \"https://archive.ics.uci.edu/ml/machine-learning-databases/00225/Indian%20Liver%20Patient%20Dataset%20(ILPD).csv\"\n",
        "    self.cols = ['age','gender','TB','DB','alkphos','sgpt','sgot','TP','albumin','AG_ratio','Is_liverPatient']\n",
        "    self.dataset = None\n",
        "  \n",
        "  def load_data(self):\n",
        "    self.dataset = pd.read_csv(self.url,names=self.cols)\n",
        "    print('shape of df :',self.dataset.shape)\n",
        "    return self.dataset\n",
        "  \n",
        "  def preprocess(self,data):\n",
        "    #preprocessing the data\n",
        "    # 1. Removing the duplicate rows\n",
        "    self.dataset = data.drop_duplicates()\n",
        "    print('Shape after removing the duplicates :',self.dataset.shape)\n",
        "    # checking for the Null values, #display no of null values by column\n",
        "    print(self.dataset.isnull().sum())\n",
        "    #dropping the 4 rows here\n",
        "    self.dataset = self.dataset[pd.notnull(self.dataset['AG_ratio'])]\n",
        "    return None\n",
        "  \n",
        "  def encode_label(self):\n",
        "    #changing the gender attribute to categorical type\n",
        "    # 0 is for 'Female' and 1 for 'Male\n",
        "    self.dataset['gender'] = self.dataset['gender'].apply(lambda x: 0 if(x == 'Female') else 1)\n",
        "    #self.dataset.gender = pd.factorize(self.dataset.gender)[0] + 0.0\n",
        "    #Encoding the label for proper implementation in network (1 neuron in the output layer)\n",
        "    # Label 1 means \"a liver patient\" so encoding as 1\n",
        "    # Label 2 means \"not a liver patient\" so encoding as 0\n",
        "    self.dataset['Is_liverPatient'] = self.dataset['Is_liverPatient'].apply(lambda x: 0 if(x == 2) else x)\n",
        "    #self.dataset.loc[(self.dataset.Is_liverPatient == 2), 'Is_liverPatient'] = 0\n",
        "    return None\n",
        "  \n",
        "  def scaleData(self):\n",
        "    #Scaling the attribute values to be between [0,1]\n",
        "    scaler = MinMaxScaler()\n",
        "    cols_to_scale = ['age', 'TB', 'DB', 'alkphos', 'sgpt', 'sgot', 'TP', 'albumin', 'AG_ratio']\n",
        "    Dataset = pd.DataFrame(data=self.dataset)\n",
        "    self.dataset[cols_to_scale] = scaler.fit_transform(Dataset[cols_to_scale])\n",
        "    return None\n",
        "  \n",
        "  def get_dataset(self):\n",
        "    return self.dataset"
      ],
      "execution_count": 0,
      "outputs": []
    },
    {
      "cell_type": "code",
      "metadata": {
        "id": "lXEozq93vOXf",
        "colab_type": "code",
        "colab": {
          "base_uri": "https://localhost:8080/",
          "height": 255
        },
        "outputId": "52f1e490-4139-48d2-d118-4fcc0c3a7f0e"
      },
      "source": [
        "prep = Preprocess()\n",
        "dataset = prep.load_data()\n",
        "prep.preprocess(dataset)\n",
        "prep.encode_label()\n",
        "dataset = prep.get_dataset()"
      ],
      "execution_count": 3,
      "outputs": [
        {
          "output_type": "stream",
          "text": [
            "shape of df : (583, 11)\n",
            "Shape after removing the duplicates : (570, 11)\n",
            "age                0\n",
            "gender             0\n",
            "TB                 0\n",
            "DB                 0\n",
            "alkphos            0\n",
            "sgpt               0\n",
            "sgot               0\n",
            "TP                 0\n",
            "albumin            0\n",
            "AG_ratio           4\n",
            "Is_liverPatient    0\n",
            "dtype: int64\n"
          ],
          "name": "stdout"
        }
      ]
    },
    {
      "cell_type": "code",
      "metadata": {
        "id": "u4qBOc-QvRmT",
        "colab_type": "code",
        "colab": {
          "base_uri": "https://localhost:8080/",
          "height": 419
        },
        "outputId": "13133aa9-6e74-4a91-ed14-77bc4c1ebe9f"
      },
      "source": [
        "dataset"
      ],
      "execution_count": 4,
      "outputs": [
        {
          "output_type": "execute_result",
          "data": {
            "text/html": [
              "<div>\n",
              "<style scoped>\n",
              "    .dataframe tbody tr th:only-of-type {\n",
              "        vertical-align: middle;\n",
              "    }\n",
              "\n",
              "    .dataframe tbody tr th {\n",
              "        vertical-align: top;\n",
              "    }\n",
              "\n",
              "    .dataframe thead th {\n",
              "        text-align: right;\n",
              "    }\n",
              "</style>\n",
              "<table border=\"1\" class=\"dataframe\">\n",
              "  <thead>\n",
              "    <tr style=\"text-align: right;\">\n",
              "      <th></th>\n",
              "      <th>age</th>\n",
              "      <th>gender</th>\n",
              "      <th>TB</th>\n",
              "      <th>DB</th>\n",
              "      <th>alkphos</th>\n",
              "      <th>sgpt</th>\n",
              "      <th>sgot</th>\n",
              "      <th>TP</th>\n",
              "      <th>albumin</th>\n",
              "      <th>AG_ratio</th>\n",
              "      <th>Is_liverPatient</th>\n",
              "    </tr>\n",
              "  </thead>\n",
              "  <tbody>\n",
              "    <tr>\n",
              "      <th>0</th>\n",
              "      <td>65</td>\n",
              "      <td>0</td>\n",
              "      <td>0.7</td>\n",
              "      <td>0.1</td>\n",
              "      <td>187</td>\n",
              "      <td>16</td>\n",
              "      <td>18</td>\n",
              "      <td>6.8</td>\n",
              "      <td>3.3</td>\n",
              "      <td>0.90</td>\n",
              "      <td>1</td>\n",
              "    </tr>\n",
              "    <tr>\n",
              "      <th>1</th>\n",
              "      <td>62</td>\n",
              "      <td>1</td>\n",
              "      <td>10.9</td>\n",
              "      <td>5.5</td>\n",
              "      <td>699</td>\n",
              "      <td>64</td>\n",
              "      <td>100</td>\n",
              "      <td>7.5</td>\n",
              "      <td>3.2</td>\n",
              "      <td>0.74</td>\n",
              "      <td>1</td>\n",
              "    </tr>\n",
              "    <tr>\n",
              "      <th>2</th>\n",
              "      <td>62</td>\n",
              "      <td>1</td>\n",
              "      <td>7.3</td>\n",
              "      <td>4.1</td>\n",
              "      <td>490</td>\n",
              "      <td>60</td>\n",
              "      <td>68</td>\n",
              "      <td>7.0</td>\n",
              "      <td>3.3</td>\n",
              "      <td>0.89</td>\n",
              "      <td>1</td>\n",
              "    </tr>\n",
              "    <tr>\n",
              "      <th>3</th>\n",
              "      <td>58</td>\n",
              "      <td>1</td>\n",
              "      <td>1.0</td>\n",
              "      <td>0.4</td>\n",
              "      <td>182</td>\n",
              "      <td>14</td>\n",
              "      <td>20</td>\n",
              "      <td>6.8</td>\n",
              "      <td>3.4</td>\n",
              "      <td>1.00</td>\n",
              "      <td>1</td>\n",
              "    </tr>\n",
              "    <tr>\n",
              "      <th>4</th>\n",
              "      <td>72</td>\n",
              "      <td>1</td>\n",
              "      <td>3.9</td>\n",
              "      <td>2.0</td>\n",
              "      <td>195</td>\n",
              "      <td>27</td>\n",
              "      <td>59</td>\n",
              "      <td>7.3</td>\n",
              "      <td>2.4</td>\n",
              "      <td>0.40</td>\n",
              "      <td>1</td>\n",
              "    </tr>\n",
              "    <tr>\n",
              "      <th>...</th>\n",
              "      <td>...</td>\n",
              "      <td>...</td>\n",
              "      <td>...</td>\n",
              "      <td>...</td>\n",
              "      <td>...</td>\n",
              "      <td>...</td>\n",
              "      <td>...</td>\n",
              "      <td>...</td>\n",
              "      <td>...</td>\n",
              "      <td>...</td>\n",
              "      <td>...</td>\n",
              "    </tr>\n",
              "    <tr>\n",
              "      <th>578</th>\n",
              "      <td>60</td>\n",
              "      <td>1</td>\n",
              "      <td>0.5</td>\n",
              "      <td>0.1</td>\n",
              "      <td>500</td>\n",
              "      <td>20</td>\n",
              "      <td>34</td>\n",
              "      <td>5.9</td>\n",
              "      <td>1.6</td>\n",
              "      <td>0.37</td>\n",
              "      <td>0</td>\n",
              "    </tr>\n",
              "    <tr>\n",
              "      <th>579</th>\n",
              "      <td>40</td>\n",
              "      <td>1</td>\n",
              "      <td>0.6</td>\n",
              "      <td>0.1</td>\n",
              "      <td>98</td>\n",
              "      <td>35</td>\n",
              "      <td>31</td>\n",
              "      <td>6.0</td>\n",
              "      <td>3.2</td>\n",
              "      <td>1.10</td>\n",
              "      <td>1</td>\n",
              "    </tr>\n",
              "    <tr>\n",
              "      <th>580</th>\n",
              "      <td>52</td>\n",
              "      <td>1</td>\n",
              "      <td>0.8</td>\n",
              "      <td>0.2</td>\n",
              "      <td>245</td>\n",
              "      <td>48</td>\n",
              "      <td>49</td>\n",
              "      <td>6.4</td>\n",
              "      <td>3.2</td>\n",
              "      <td>1.00</td>\n",
              "      <td>1</td>\n",
              "    </tr>\n",
              "    <tr>\n",
              "      <th>581</th>\n",
              "      <td>31</td>\n",
              "      <td>1</td>\n",
              "      <td>1.3</td>\n",
              "      <td>0.5</td>\n",
              "      <td>184</td>\n",
              "      <td>29</td>\n",
              "      <td>32</td>\n",
              "      <td>6.8</td>\n",
              "      <td>3.4</td>\n",
              "      <td>1.00</td>\n",
              "      <td>1</td>\n",
              "    </tr>\n",
              "    <tr>\n",
              "      <th>582</th>\n",
              "      <td>38</td>\n",
              "      <td>1</td>\n",
              "      <td>1.0</td>\n",
              "      <td>0.3</td>\n",
              "      <td>216</td>\n",
              "      <td>21</td>\n",
              "      <td>24</td>\n",
              "      <td>7.3</td>\n",
              "      <td>4.4</td>\n",
              "      <td>1.50</td>\n",
              "      <td>0</td>\n",
              "    </tr>\n",
              "  </tbody>\n",
              "</table>\n",
              "<p>566 rows × 11 columns</p>\n",
              "</div>"
            ],
            "text/plain": [
              "     age  gender    TB   DB  ...   TP  albumin  AG_ratio  Is_liverPatient\n",
              "0     65       0   0.7  0.1  ...  6.8      3.3      0.90                1\n",
              "1     62       1  10.9  5.5  ...  7.5      3.2      0.74                1\n",
              "2     62       1   7.3  4.1  ...  7.0      3.3      0.89                1\n",
              "3     58       1   1.0  0.4  ...  6.8      3.4      1.00                1\n",
              "4     72       1   3.9  2.0  ...  7.3      2.4      0.40                1\n",
              "..   ...     ...   ...  ...  ...  ...      ...       ...              ...\n",
              "578   60       1   0.5  0.1  ...  5.9      1.6      0.37                0\n",
              "579   40       1   0.6  0.1  ...  6.0      3.2      1.10                1\n",
              "580   52       1   0.8  0.2  ...  6.4      3.2      1.00                1\n",
              "581   31       1   1.3  0.5  ...  6.8      3.4      1.00                1\n",
              "582   38       1   1.0  0.3  ...  7.3      4.4      1.50                0\n",
              "\n",
              "[566 rows x 11 columns]"
            ]
          },
          "metadata": {
            "tags": []
          },
          "execution_count": 4
        }
      ]
    },
    {
      "cell_type": "code",
      "metadata": {
        "id": "I2QtGdc4vWYl",
        "colab_type": "code",
        "colab": {}
      },
      "source": [
        "#Splitting the dataset into train and test splits\n",
        "# Taking the label out of the original preprocessed dataset\n",
        "X = dataset[['age', 'gender', 'TB', 'DB', 'alkphos', 'sgpt', 'sgot', 'TP', 'albumin', 'AG_ratio']]\n",
        "y = dataset['Is_liverPatient']\n",
        "\n",
        "X_train, X_test, y_train, y_test = train_test_split(X,y,train_size=0.70)  #test_size = 1-0.7 = 0.3"
      ],
      "execution_count": 0,
      "outputs": []
    },
    {
      "cell_type": "markdown",
      "metadata": {
        "id": "7hHiSwsJvak-",
        "colab_type": "text"
      },
      "source": [
        "**Building the Adaboost classifier.**"
      ]
    },
    {
      "cell_type": "markdown",
      "metadata": {
        "id": "mdU3CshPyYkX",
        "colab_type": "text"
      },
      "source": [
        "a) Using Decision tree classifier as the base learner."
      ]
    },
    {
      "cell_type": "code",
      "metadata": {
        "id": "_MLvasH3yGSM",
        "colab_type": "code",
        "colab": {}
      },
      "source": [
        "abc_DT = AdaBoostClassifier(n_estimators=50,learning_rate=1,base_estimator=DecisionTreeClassifier()) #base_estimator=DecisionTreeClassifier()"
      ],
      "execution_count": 0,
      "outputs": []
    },
    {
      "cell_type": "code",
      "metadata": {
        "id": "ywNL7K55v09A",
        "colab_type": "code",
        "colab": {}
      },
      "source": [
        "model = abc_DT.fit(X_train,y_train)"
      ],
      "execution_count": 0,
      "outputs": []
    },
    {
      "cell_type": "code",
      "metadata": {
        "id": "hXi-T86kv4Dh",
        "colab_type": "code",
        "colab": {
          "base_uri": "https://localhost:8080/",
          "height": 34
        },
        "outputId": "d5bd948e-18a9-4153-dd38-d5db1c394347"
      },
      "source": [
        "y_pred = model.predict(X_test)\n",
        "print('Accuracy :',accuracy_score(y_test,y_pred))"
      ],
      "execution_count": 20,
      "outputs": [
        {
          "output_type": "stream",
          "text": [
            "Accuracy : 0.6470588235294118\n"
          ],
          "name": "stdout"
        }
      ]
    },
    {
      "cell_type": "markdown",
      "metadata": {
        "id": "hW2x6KSlye0d",
        "colab_type": "text"
      },
      "source": [
        "b) Using SVC as the base learner."
      ]
    },
    {
      "cell_type": "code",
      "metadata": {
        "id": "15Gx--IEvX0F",
        "colab_type": "code",
        "colab": {}
      },
      "source": [
        "abc_SVC = AdaBoostClassifier(n_estimators=50,learning_rate=1,base_estimator=SVC(probability=True,kernel='linear')) #base_estimator=DecisionTreeClassifier()"
      ],
      "execution_count": 0,
      "outputs": []
    },
    {
      "cell_type": "code",
      "metadata": {
        "id": "vFr_pfAvymdt",
        "colab_type": "code",
        "colab": {}
      },
      "source": [
        "model_SVC = abc_SVC.fit(X_train,y_train)"
      ],
      "execution_count": 0,
      "outputs": []
    },
    {
      "cell_type": "code",
      "metadata": {
        "id": "HyfQ81WjyiH4",
        "colab_type": "code",
        "colab": {
          "base_uri": "https://localhost:8080/",
          "height": 34
        },
        "outputId": "62186f74-fdf4-444d-c2a8-f807faaff274"
      },
      "source": [
        "y_pred_SVC = model_SVC.predict(X_test)\n",
        "print('Accuracy :',accuracy_score(y_test, y_pred_SVC))"
      ],
      "execution_count": 23,
      "outputs": [
        {
          "output_type": "stream",
          "text": [
            "Accuracy : 0.7352941176470589\n"
          ],
          "name": "stdout"
        }
      ]
    },
    {
      "cell_type": "markdown",
      "metadata": {
        "id": "7zO3xbRRBDci",
        "colab_type": "text"
      },
      "source": [
        "c) No base estimator set as base learner."
      ]
    },
    {
      "cell_type": "code",
      "metadata": {
        "id": "p8Hkh08PAh58",
        "colab_type": "code",
        "colab": {}
      },
      "source": [
        "a = AdaBoostClassifier(n_estimators=50,learning_rate=0.1)"
      ],
      "execution_count": 0,
      "outputs": []
    },
    {
      "cell_type": "code",
      "metadata": {
        "id": "GTeamF7MAnsw",
        "colab_type": "code",
        "colab": {
          "base_uri": "https://localhost:8080/",
          "height": 34
        },
        "outputId": "b9c79768-5dc9-4caa-ac8f-770184796c36"
      },
      "source": [
        "model_a = a.fit(X_train,y_train)\n",
        "y_pred_a = model_a.predict(X_test)\n",
        "print('Accuracy :',accuracy_score(y_test,y_pred_a))"
      ],
      "execution_count": 37,
      "outputs": [
        {
          "output_type": "stream",
          "text": [
            "Accuracy : 0.7588235294117647\n"
          ],
          "name": "stdout"
        }
      ]
    },
    {
      "cell_type": "markdown",
      "metadata": {
        "id": "rpWwQ7MSxoxs",
        "colab_type": "text"
      },
      "source": [
        "**RESULT**\n",
        "\n",
        "The accuracy when the base learner used is Decision tree is around 65% not that good. But with SVC as the base learner gives around 73.54%. With no base learner set, gives the accuracy of around 74.11%."
      ]
    },
    {
      "cell_type": "markdown",
      "metadata": {
        "id": "KfVQgEq0L7nL",
        "colab_type": "text"
      },
      "source": [
        "Optimizing the Hyperparameters for the Adaboost algorithm."
      ]
    },
    {
      "cell_type": "code",
      "metadata": {
        "id": "cpQx-aNFMETy",
        "colab_type": "code",
        "colab": {}
      },
      "source": [
        "# The data is = x,y\n",
        "# the estimator:\n",
        "estimator = AdaBoostClassifier()\n",
        "# List the parameters\n",
        "params = {\n",
        " 'n_estimators': [50, 100, 500],\n",
        " 'learning_rate' : [0.01, 0.05, 0.1, 0.5]\n",
        " }"
      ],
      "execution_count": 0,
      "outputs": []
    },
    {
      "cell_type": "code",
      "metadata": {
        "id": "s0QC4xdFM2aG",
        "colab_type": "code",
        "colab": {}
      },
      "source": [
        "#building the GridSearchCV \n",
        "gscv = GridSearchCV(estimator=estimator,param_grid=params,cv=5,verbose=1,return_train_score=True)"
      ],
      "execution_count": 0,
      "outputs": []
    },
    {
      "cell_type": "code",
      "metadata": {
        "id": "RquMN4wuNNFa",
        "colab_type": "code",
        "colab": {
          "base_uri": "https://localhost:8080/",
          "height": 238
        },
        "outputId": "c61f7087-c61b-473a-f30d-9d2dfcaba1eb"
      },
      "source": [
        "#fitting the data to the GridSearchCV model\n",
        "gscv.fit(X,y)"
      ],
      "execution_count": 33,
      "outputs": [
        {
          "output_type": "stream",
          "text": [
            "Fitting 5 folds for each of 12 candidates, totalling 60 fits\n"
          ],
          "name": "stdout"
        },
        {
          "output_type": "stream",
          "text": [
            "[Parallel(n_jobs=1)]: Using backend SequentialBackend with 1 concurrent workers.\n",
            "[Parallel(n_jobs=1)]: Done  60 out of  60 | elapsed:   21.2s finished\n"
          ],
          "name": "stderr"
        },
        {
          "output_type": "execute_result",
          "data": {
            "text/plain": [
              "GridSearchCV(cv=5, error_score=nan,\n",
              "             estimator=AdaBoostClassifier(algorithm='SAMME.R',\n",
              "                                          base_estimator=None,\n",
              "                                          learning_rate=1.0, n_estimators=50,\n",
              "                                          random_state=None),\n",
              "             iid='deprecated', n_jobs=None,\n",
              "             param_grid={'learning_rate': [0.01, 0.05, 0.1, 0.5],\n",
              "                         'n_estimators': [50, 100, 500]},\n",
              "             pre_dispatch='2*n_jobs', refit=True, return_train_score=True,\n",
              "             scoring=None, verbose=1)"
            ]
          },
          "metadata": {
            "tags": []
          },
          "execution_count": 33
        }
      ]
    },
    {
      "cell_type": "code",
      "metadata": {
        "id": "G6ZyvX1LPIsK",
        "colab_type": "code",
        "colab": {
          "base_uri": "https://localhost:8080/",
          "height": 51
        },
        "outputId": "d5ced356-5486-4aba-f5be-78923c2cdb33"
      },
      "source": [
        "print(gscv.best_params_)\n",
        "print(gscv.best_score_)"
      ],
      "execution_count": 35,
      "outputs": [
        {
          "output_type": "stream",
          "text": [
            "{'learning_rate': 0.1, 'n_estimators': 50}\n",
            "0.7208352740257725\n"
          ],
          "name": "stdout"
        }
      ]
    },
    {
      "cell_type": "code",
      "metadata": {
        "id": "JgyhP0-iPMgy",
        "colab_type": "code",
        "colab": {
          "base_uri": "https://localhost:8080/",
          "height": 51
        },
        "outputId": "0c9d0438-488f-4f17-c676-0685b89936d8"
      },
      "source": [
        "best_estimator = gscv.best_estimator_\n",
        "print(best_estimator)"
      ],
      "execution_count": 38,
      "outputs": [
        {
          "output_type": "stream",
          "text": [
            "AdaBoostClassifier(algorithm='SAMME.R', base_estimator=None, learning_rate=0.1,\n",
            "                   n_estimators=50, random_state=None)\n"
          ],
          "name": "stdout"
        }
      ]
    },
    {
      "cell_type": "code",
      "metadata": {
        "id": "qnrxViIEPqMC",
        "colab_type": "code",
        "colab": {
          "base_uri": "https://localhost:8080/",
          "height": 51
        },
        "outputId": "5748dcee-8553-464c-ad84-2893b45235db"
      },
      "source": [
        "best_estimator.fit(X_train,y_train)"
      ],
      "execution_count": 39,
      "outputs": [
        {
          "output_type": "execute_result",
          "data": {
            "text/plain": [
              "AdaBoostClassifier(algorithm='SAMME.R', base_estimator=None, learning_rate=0.1,\n",
              "                   n_estimators=50, random_state=None)"
            ]
          },
          "metadata": {
            "tags": []
          },
          "execution_count": 39
        }
      ]
    },
    {
      "cell_type": "code",
      "metadata": {
        "id": "kjrHYE3TP00I",
        "colab_type": "code",
        "colab": {
          "base_uri": "https://localhost:8080/",
          "height": 34
        },
        "outputId": "6e22a2ca-4540-407f-b86d-b104578946fc"
      },
      "source": [
        " y_pred = best_estimator.predict(X_test)\n",
        " accuracy_score(y_test,y_pred)"
      ],
      "execution_count": 42,
      "outputs": [
        {
          "output_type": "execute_result",
          "data": {
            "text/plain": [
              "0.7588235294117647"
            ]
          },
          "metadata": {
            "tags": []
          },
          "execution_count": 42
        }
      ]
    },
    {
      "cell_type": "markdown",
      "metadata": {
        "id": "JbvThBDSQD6z",
        "colab_type": "text"
      },
      "source": [
        "The best achievable **accuracy is 76%** after tuning the hyperparameters."
      ]
    }
  ]
}
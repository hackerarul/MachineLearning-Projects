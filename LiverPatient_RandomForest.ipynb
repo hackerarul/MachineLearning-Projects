{
  "nbformat": 4,
  "nbformat_minor": 0,
  "metadata": {
    "colab": {
      "name": "LiverPatient_RandomForest.ipynb",
      "provenance": [],
      "authorship_tag": "ABX9TyPdojmInYZW8mH5rusoKD6n"
    },
    "kernelspec": {
      "name": "python3",
      "display_name": "Python 3"
    }
  },
  "cells": [
    {
      "cell_type": "markdown",
      "metadata": {
        "id": "f_lZBjLOPbkk",
        "colab_type": "text"
      },
      "source": [
        "**Liver Patient prediction using Random Forest ensemble learning algorithm.**"
      ]
    },
    {
      "cell_type": "code",
      "metadata": {
        "id": "pqQdMl4wPVnm",
        "colab_type": "code",
        "colab": {}
      },
      "source": [
        "#Loading the required libraries\n",
        "import pandas as pd\n",
        "import seaborn as sns\n",
        "import matplotlib.pyplot as plt\n",
        "from sklearn.model_selection import train_test_split, GridSearchCV\n",
        "from sklearn.ensemble import RandomForestClassifier\n",
        "from sklearn.metrics import confusion_matrix,accuracy_score"
      ],
      "execution_count": 0,
      "outputs": []
    },
    {
      "cell_type": "code",
      "metadata": {
        "id": "Kv-jIEp0Pvtr",
        "colab_type": "code",
        "colab": {}
      },
      "source": [
        "class Preprocess(object):\n",
        "  def __init__(self):\n",
        "    self.url = \"https://archive.ics.uci.edu/ml/machine-learning-databases/00225/Indian%20Liver%20Patient%20Dataset%20(ILPD).csv\"\n",
        "    self.cols = ['age','gender','TB','DB','alkphos','sgpt','sgot','TP','albumin','AG_ratio','Is_liverPatient']\n",
        "    self.dataset = None\n",
        "  \n",
        "  def load_data(self):\n",
        "    self.dataset = pd.read_csv(self.url,names=self.cols)\n",
        "    print('shape of df :',self.dataset.shape)\n",
        "    return self.dataset\n",
        "  \n",
        "  def preprocess(self,data):\n",
        "    #preprocessing the data\n",
        "    # 1. Removing the duplicate rows\n",
        "    self.dataset = data.drop_duplicates()\n",
        "    print('Shape after removing the duplicates :',self.dataset.shape)\n",
        "    # checking for the Null values, #display no of null values by column\n",
        "    print(self.dataset.isnull().sum())\n",
        "    #dropping the 4 rows here\n",
        "    self.dataset = self.dataset[pd.notnull(self.dataset['AG_ratio'])]\n",
        "    return None\n",
        "  \n",
        "  def encode_label(self):\n",
        "    #changing the gender attribute to categorical type\n",
        "    # 0 is for 'Female' and 1 for 'Male\n",
        "    self.dataset['gender'] = self.dataset['gender'].apply(lambda x: 0 if(x == 'Female') else 1)\n",
        "    #self.dataset.gender = pd.factorize(self.dataset.gender)[0] + 0.0\n",
        "    #Encoding the label for proper implementation in network (1 neuron in the output layer)\n",
        "    # Label 1 means \"a liver patient\" so encoding as 1\n",
        "    # Label 2 means \"not a liver patient\" so encoding as 0\n",
        "    self.dataset['Is_liverPatient'] = self.dataset['Is_liverPatient'].apply(lambda x: 0 if(x == 2) else x)\n",
        "    #self.dataset.loc[(self.dataset.Is_liverPatient == 2), 'Is_liverPatient'] = 0\n",
        "    return None\n",
        "  \n",
        "  def scaleData(self):\n",
        "    #Scaling the attribute values to be between [0,1]\n",
        "    scaler = MinMaxScaler()\n",
        "    cols_to_scale = ['age', 'TB', 'DB', 'alkphos', 'sgpt', 'sgot', 'TP', 'albumin', 'AG_ratio']\n",
        "    Dataset = pd.DataFrame(data=self.dataset)\n",
        "    self.dataset[cols_to_scale] = scaler.fit_transform(Dataset[cols_to_scale])\n",
        "    return None\n",
        "  \n",
        "  def get_dataset(self):\n",
        "    return self.dataset"
      ],
      "execution_count": 0,
      "outputs": []
    },
    {
      "cell_type": "code",
      "metadata": {
        "id": "spZ3DMWeRJ-B",
        "colab_type": "code",
        "outputId": "e1b21752-ad9c-48ff-a77c-b8bb1ac8d587",
        "colab": {
          "base_uri": "https://localhost:8080/",
          "height": 255
        }
      },
      "source": [
        "prep = Preprocess()\n",
        "dataset = prep.load_data()\n",
        "prep.preprocess(dataset)\n",
        "prep.encode_label()\n",
        "dataset = prep.get_dataset()"
      ],
      "execution_count": 5,
      "outputs": [
        {
          "output_type": "stream",
          "text": [
            "shape of df : (583, 11)\n",
            "Shape after removing the duplicates : (570, 11)\n",
            "age                0\n",
            "gender             0\n",
            "TB                 0\n",
            "DB                 0\n",
            "alkphos            0\n",
            "sgpt               0\n",
            "sgot               0\n",
            "TP                 0\n",
            "albumin            0\n",
            "AG_ratio           4\n",
            "Is_liverPatient    0\n",
            "dtype: int64\n"
          ],
          "name": "stdout"
        }
      ]
    },
    {
      "cell_type": "code",
      "metadata": {
        "id": "mSajGWn4RPBR",
        "colab_type": "code",
        "outputId": "43afc433-2c13-41af-b327-ff30408d14bf",
        "colab": {
          "base_uri": "https://localhost:8080/",
          "height": 419
        }
      },
      "source": [
        "dataset"
      ],
      "execution_count": 6,
      "outputs": [
        {
          "output_type": "execute_result",
          "data": {
            "text/html": [
              "<div>\n",
              "<style scoped>\n",
              "    .dataframe tbody tr th:only-of-type {\n",
              "        vertical-align: middle;\n",
              "    }\n",
              "\n",
              "    .dataframe tbody tr th {\n",
              "        vertical-align: top;\n",
              "    }\n",
              "\n",
              "    .dataframe thead th {\n",
              "        text-align: right;\n",
              "    }\n",
              "</style>\n",
              "<table border=\"1\" class=\"dataframe\">\n",
              "  <thead>\n",
              "    <tr style=\"text-align: right;\">\n",
              "      <th></th>\n",
              "      <th>age</th>\n",
              "      <th>gender</th>\n",
              "      <th>TB</th>\n",
              "      <th>DB</th>\n",
              "      <th>alkphos</th>\n",
              "      <th>sgpt</th>\n",
              "      <th>sgot</th>\n",
              "      <th>TP</th>\n",
              "      <th>albumin</th>\n",
              "      <th>AG_ratio</th>\n",
              "      <th>Is_liverPatient</th>\n",
              "    </tr>\n",
              "  </thead>\n",
              "  <tbody>\n",
              "    <tr>\n",
              "      <th>0</th>\n",
              "      <td>65</td>\n",
              "      <td>0</td>\n",
              "      <td>0.7</td>\n",
              "      <td>0.1</td>\n",
              "      <td>187</td>\n",
              "      <td>16</td>\n",
              "      <td>18</td>\n",
              "      <td>6.8</td>\n",
              "      <td>3.3</td>\n",
              "      <td>0.90</td>\n",
              "      <td>1</td>\n",
              "    </tr>\n",
              "    <tr>\n",
              "      <th>1</th>\n",
              "      <td>62</td>\n",
              "      <td>1</td>\n",
              "      <td>10.9</td>\n",
              "      <td>5.5</td>\n",
              "      <td>699</td>\n",
              "      <td>64</td>\n",
              "      <td>100</td>\n",
              "      <td>7.5</td>\n",
              "      <td>3.2</td>\n",
              "      <td>0.74</td>\n",
              "      <td>1</td>\n",
              "    </tr>\n",
              "    <tr>\n",
              "      <th>2</th>\n",
              "      <td>62</td>\n",
              "      <td>1</td>\n",
              "      <td>7.3</td>\n",
              "      <td>4.1</td>\n",
              "      <td>490</td>\n",
              "      <td>60</td>\n",
              "      <td>68</td>\n",
              "      <td>7.0</td>\n",
              "      <td>3.3</td>\n",
              "      <td>0.89</td>\n",
              "      <td>1</td>\n",
              "    </tr>\n",
              "    <tr>\n",
              "      <th>3</th>\n",
              "      <td>58</td>\n",
              "      <td>1</td>\n",
              "      <td>1.0</td>\n",
              "      <td>0.4</td>\n",
              "      <td>182</td>\n",
              "      <td>14</td>\n",
              "      <td>20</td>\n",
              "      <td>6.8</td>\n",
              "      <td>3.4</td>\n",
              "      <td>1.00</td>\n",
              "      <td>1</td>\n",
              "    </tr>\n",
              "    <tr>\n",
              "      <th>4</th>\n",
              "      <td>72</td>\n",
              "      <td>1</td>\n",
              "      <td>3.9</td>\n",
              "      <td>2.0</td>\n",
              "      <td>195</td>\n",
              "      <td>27</td>\n",
              "      <td>59</td>\n",
              "      <td>7.3</td>\n",
              "      <td>2.4</td>\n",
              "      <td>0.40</td>\n",
              "      <td>1</td>\n",
              "    </tr>\n",
              "    <tr>\n",
              "      <th>...</th>\n",
              "      <td>...</td>\n",
              "      <td>...</td>\n",
              "      <td>...</td>\n",
              "      <td>...</td>\n",
              "      <td>...</td>\n",
              "      <td>...</td>\n",
              "      <td>...</td>\n",
              "      <td>...</td>\n",
              "      <td>...</td>\n",
              "      <td>...</td>\n",
              "      <td>...</td>\n",
              "    </tr>\n",
              "    <tr>\n",
              "      <th>578</th>\n",
              "      <td>60</td>\n",
              "      <td>1</td>\n",
              "      <td>0.5</td>\n",
              "      <td>0.1</td>\n",
              "      <td>500</td>\n",
              "      <td>20</td>\n",
              "      <td>34</td>\n",
              "      <td>5.9</td>\n",
              "      <td>1.6</td>\n",
              "      <td>0.37</td>\n",
              "      <td>0</td>\n",
              "    </tr>\n",
              "    <tr>\n",
              "      <th>579</th>\n",
              "      <td>40</td>\n",
              "      <td>1</td>\n",
              "      <td>0.6</td>\n",
              "      <td>0.1</td>\n",
              "      <td>98</td>\n",
              "      <td>35</td>\n",
              "      <td>31</td>\n",
              "      <td>6.0</td>\n",
              "      <td>3.2</td>\n",
              "      <td>1.10</td>\n",
              "      <td>1</td>\n",
              "    </tr>\n",
              "    <tr>\n",
              "      <th>580</th>\n",
              "      <td>52</td>\n",
              "      <td>1</td>\n",
              "      <td>0.8</td>\n",
              "      <td>0.2</td>\n",
              "      <td>245</td>\n",
              "      <td>48</td>\n",
              "      <td>49</td>\n",
              "      <td>6.4</td>\n",
              "      <td>3.2</td>\n",
              "      <td>1.00</td>\n",
              "      <td>1</td>\n",
              "    </tr>\n",
              "    <tr>\n",
              "      <th>581</th>\n",
              "      <td>31</td>\n",
              "      <td>1</td>\n",
              "      <td>1.3</td>\n",
              "      <td>0.5</td>\n",
              "      <td>184</td>\n",
              "      <td>29</td>\n",
              "      <td>32</td>\n",
              "      <td>6.8</td>\n",
              "      <td>3.4</td>\n",
              "      <td>1.00</td>\n",
              "      <td>1</td>\n",
              "    </tr>\n",
              "    <tr>\n",
              "      <th>582</th>\n",
              "      <td>38</td>\n",
              "      <td>1</td>\n",
              "      <td>1.0</td>\n",
              "      <td>0.3</td>\n",
              "      <td>216</td>\n",
              "      <td>21</td>\n",
              "      <td>24</td>\n",
              "      <td>7.3</td>\n",
              "      <td>4.4</td>\n",
              "      <td>1.50</td>\n",
              "      <td>0</td>\n",
              "    </tr>\n",
              "  </tbody>\n",
              "</table>\n",
              "<p>566 rows × 11 columns</p>\n",
              "</div>"
            ],
            "text/plain": [
              "     age  gender    TB   DB  ...   TP  albumin  AG_ratio  Is_liverPatient\n",
              "0     65       0   0.7  0.1  ...  6.8      3.3      0.90                1\n",
              "1     62       1  10.9  5.5  ...  7.5      3.2      0.74                1\n",
              "2     62       1   7.3  4.1  ...  7.0      3.3      0.89                1\n",
              "3     58       1   1.0  0.4  ...  6.8      3.4      1.00                1\n",
              "4     72       1   3.9  2.0  ...  7.3      2.4      0.40                1\n",
              "..   ...     ...   ...  ...  ...  ...      ...       ...              ...\n",
              "578   60       1   0.5  0.1  ...  5.9      1.6      0.37                0\n",
              "579   40       1   0.6  0.1  ...  6.0      3.2      1.10                1\n",
              "580   52       1   0.8  0.2  ...  6.4      3.2      1.00                1\n",
              "581   31       1   1.3  0.5  ...  6.8      3.4      1.00                1\n",
              "582   38       1   1.0  0.3  ...  7.3      4.4      1.50                0\n",
              "\n",
              "[566 rows x 11 columns]"
            ]
          },
          "metadata": {
            "tags": []
          },
          "execution_count": 6
        }
      ]
    },
    {
      "cell_type": "code",
      "metadata": {
        "id": "XH_MLl-YRw6n",
        "colab_type": "code",
        "colab": {}
      },
      "source": [
        "#Splitting the dataset into train and test splits\n",
        "# Taking the label out of the original preprocessed dataset\n",
        "X = dataset[['age', 'gender', 'TB', 'DB', 'alkphos', 'sgpt', 'sgot', 'TP', 'albumin', 'AG_ratio']]\n",
        "y = dataset['Is_liverPatient']\n",
        "\n",
        "X_train, X_test, y_train, y_test = train_test_split(X,y,train_size=0.70)  #test_size = 1-0.7 = 0.3"
      ],
      "execution_count": 0,
      "outputs": []
    },
    {
      "cell_type": "markdown",
      "metadata": {
        "id": "tiNYXNUnRiAT",
        "colab_type": "text"
      },
      "source": [
        "**Building the RandomForest classifier.**"
      ]
    },
    {
      "cell_type": "code",
      "metadata": {
        "id": "ImrxiscsRmQA",
        "colab_type": "code",
        "colab": {}
      },
      "source": [
        "clf=RandomForestClassifier(n_estimators=50,max_depth=5)"
      ],
      "execution_count": 0,
      "outputs": []
    },
    {
      "cell_type": "code",
      "metadata": {
        "id": "868Ezh1VRrYG",
        "colab_type": "code",
        "outputId": "6fcdf247-7a3e-491c-9172-c8ba040f3bc7",
        "colab": {
          "base_uri": "https://localhost:8080/",
          "height": 153
        }
      },
      "source": [
        "clf.fit(X_train,y_train)"
      ],
      "execution_count": 10,
      "outputs": [
        {
          "output_type": "execute_result",
          "data": {
            "text/plain": [
              "RandomForestClassifier(bootstrap=True, ccp_alpha=0.0, class_weight=None,\n",
              "                       criterion='gini', max_depth=5, max_features='auto',\n",
              "                       max_leaf_nodes=None, max_samples=None,\n",
              "                       min_impurity_decrease=0.0, min_impurity_split=None,\n",
              "                       min_samples_leaf=1, min_samples_split=2,\n",
              "                       min_weight_fraction_leaf=0.0, n_estimators=50,\n",
              "                       n_jobs=None, oob_score=False, random_state=None,\n",
              "                       verbose=0, warm_start=False)"
            ]
          },
          "metadata": {
            "tags": []
          },
          "execution_count": 10
        }
      ]
    },
    {
      "cell_type": "code",
      "metadata": {
        "id": "PD1Kr0Z3R5rV",
        "colab_type": "code",
        "colab": {}
      },
      "source": [
        "y_pred=clf.predict(X_test)"
      ],
      "execution_count": 0,
      "outputs": []
    },
    {
      "cell_type": "code",
      "metadata": {
        "id": "J8b9g9kXR9L9",
        "colab_type": "code",
        "outputId": "b3e02372-b5bf-42a8-984f-f0decbdf9e41",
        "colab": {
          "base_uri": "https://localhost:8080/",
          "height": 34
        }
      },
      "source": [
        "print(\"Accuracy:\",accuracy_score(y_test, y_pred))"
      ],
      "execution_count": 12,
      "outputs": [
        {
          "output_type": "stream",
          "text": [
            "Accuracy: 0.711764705882353\n"
          ],
          "name": "stdout"
        }
      ]
    },
    {
      "cell_type": "markdown",
      "metadata": {
        "id": "UANDP9Xt0V47",
        "colab_type": "text"
      },
      "source": [
        "Accuracy obtained without feature selection with the parameters : \n",
        "n_estimators = 50 and max_depth = 5.\n",
        "**Accuracy: 0.711764705882353**"
      ]
    },
    {
      "cell_type": "markdown",
      "metadata": {
        "id": "BQf9eJFISFrR",
        "colab_type": "text"
      },
      "source": [
        "**Finding the important features.**"
      ]
    },
    {
      "cell_type": "code",
      "metadata": {
        "id": "4PAnycEH40L5",
        "colab_type": "code",
        "colab": {
          "base_uri": "https://localhost:8080/",
          "height": 51
        },
        "outputId": "ac7c3a40-5281-473b-bc33-76c7e1209225"
      },
      "source": [
        "#Finding the correlation between the columns: pd.corr()\n",
        "dataset.columns\n",
        "db = pd.Series(dataset['DB'])\n",
        "tb = pd.Series(dataset['TB'])\n",
        "print('correlation between DB and TB')\n",
        "db.corr(tb)"
      ],
      "execution_count": 18,
      "outputs": [
        {
          "output_type": "stream",
          "text": [
            "correlation between DB and TB\n"
          ],
          "name": "stdout"
        },
        {
          "output_type": "execute_result",
          "data": {
            "text/plain": [
              "0.8739748759265931"
            ]
          },
          "metadata": {
            "tags": []
          },
          "execution_count": 18
        }
      ]
    },
    {
      "cell_type": "code",
      "metadata": {
        "id": "NKg7IIPf5oSQ",
        "colab_type": "code",
        "colab": {
          "base_uri": "https://localhost:8080/",
          "height": 153
        },
        "outputId": "c9a423fb-f5f4-4c13-8e27-efe63ca17c50"
      },
      "source": [
        "print('correlation between Direct_bilrubin and total_bilrubin')\n",
        "print(pd.Series(data=dataset['DB']).corr(pd.Series(data=dataset['TB'])))\n",
        "print('correlation between aspartate_aminotransferase and alamine_aminotransferase')\n",
        "print(pd.Series(data=dataset['sgpt']).corr(pd.Series(data=dataset['sgot'])))\n",
        "print('correlation between albumin and total_protiens')\n",
        "print(pd.Series(data=dataset['TP']).corr(pd.Series(data=dataset['albumin'])))\n",
        "print('correlation between ratio_albumin_and_globulin_ratio and albumin')\n",
        "print(pd.Series(data=dataset['AG_ratio']).corr(pd.Series(data=dataset['albumin'])))"
      ],
      "execution_count": 26,
      "outputs": [
        {
          "output_type": "stream",
          "text": [
            "correlation between Direct_bilrubin and total_bilrubin\n",
            "0.8739748759265931\n",
            "correlation between aspartate_aminotransferase and alamine_aminotransferase\n",
            "0.7917541284535163\n",
            "correlation between albumin and total_protiens\n",
            "0.7838004937512311\n",
            "correlation between ratio_albumin_and_globulin_ratio and albumin\n",
            "0.6874377958395209\n"
          ],
          "name": "stdout"
        }
      ]
    },
    {
      "cell_type": "markdown",
      "metadata": {
        "id": "byuMNAij7TIg",
        "colab_type": "text"
      },
      "source": [
        "Better to delete some of them now. Because of the high correlation the other attribute correlated strongly together is redundant in explaining the model. We just need one of them..\n",
        "Removing 'DB'-“direct_bilirubin” and “total_bilirubin”.\n",
        "Removing 'sgpt “aspartate_aminotransferase” (well, random choice).\n",
        "Remove “albumin” (to keep more columns (“total_protiens”, “ratio_albumin_and_globulin_ratio”))."
      ]
    },
    {
      "cell_type": "code",
      "metadata": {
        "id": "t_Z0rv5H8DH7",
        "colab_type": "code",
        "colab": {}
      },
      "source": [
        "x = dataset[['age', 'gender', 'TB', 'alkphos', 'sgot', 'TP','AG_ratio']]\n",
        "y = dataset['Is_liverPatient']"
      ],
      "execution_count": 0,
      "outputs": []
    },
    {
      "cell_type": "code",
      "metadata": {
        "id": "BLvu1oeL8zII",
        "colab_type": "code",
        "colab": {}
      },
      "source": [
        "X_train,X_test,y_train,y_test=train_test_split(x,y,test_size=0.30,random_state=5)"
      ],
      "execution_count": 0,
      "outputs": []
    },
    {
      "cell_type": "code",
      "metadata": {
        "id": "LI_DdVCD87zo",
        "colab_type": "code",
        "colab": {}
      },
      "source": [
        "clf_1 = RandomForestClassifier(n_estimators=50,max_depth=5)"
      ],
      "execution_count": 0,
      "outputs": []
    },
    {
      "cell_type": "code",
      "metadata": {
        "id": "RGLaN7059BE6",
        "colab_type": "code",
        "colab": {
          "base_uri": "https://localhost:8080/",
          "height": 153
        },
        "outputId": "fff0c241-52bb-406f-886f-63e35416ac75"
      },
      "source": [
        "clf_1.fit(X_train,y_train)"
      ],
      "execution_count": 30,
      "outputs": [
        {
          "output_type": "execute_result",
          "data": {
            "text/plain": [
              "RandomForestClassifier(bootstrap=True, ccp_alpha=0.0, class_weight=None,\n",
              "                       criterion='gini', max_depth=5, max_features='auto',\n",
              "                       max_leaf_nodes=None, max_samples=None,\n",
              "                       min_impurity_decrease=0.0, min_impurity_split=None,\n",
              "                       min_samples_leaf=1, min_samples_split=2,\n",
              "                       min_weight_fraction_leaf=0.0, n_estimators=50,\n",
              "                       n_jobs=None, oob_score=False, random_state=None,\n",
              "                       verbose=0, warm_start=False)"
            ]
          },
          "metadata": {
            "tags": []
          },
          "execution_count": 30
        }
      ]
    },
    {
      "cell_type": "code",
      "metadata": {
        "id": "aUyu9rnk9E2h",
        "colab_type": "code",
        "colab": {}
      },
      "source": [
        "y_pred = clf_1.predict(X_test)"
      ],
      "execution_count": 0,
      "outputs": []
    },
    {
      "cell_type": "code",
      "metadata": {
        "id": "YmNM-U159KFW",
        "colab_type": "code",
        "colab": {
          "base_uri": "https://localhost:8080/",
          "height": 34
        },
        "outputId": "6362fa3c-4e04-4a7f-81bf-bafece3643de"
      },
      "source": [
        "accuracy_score(y_test,y_pred)"
      ],
      "execution_count": 32,
      "outputs": [
        {
          "output_type": "execute_result",
          "data": {
            "text/plain": [
              "0.711764705882353"
            ]
          },
          "metadata": {
            "tags": []
          },
          "execution_count": 32
        }
      ]
    },
    {
      "cell_type": "markdown",
      "metadata": {
        "id": "uo8TjaVN9RwM",
        "colab_type": "text"
      },
      "source": [
        "The accuracy score after removing one of the features that were strongly correlated amongst themselves.\n",
        "**Accuracy :- 0.711764705882353**"
      ]
    },
    {
      "cell_type": "markdown",
      "metadata": {
        "id": "hfNdTsP_8pmK",
        "colab_type": "text"
      },
      "source": [
        "**Selecting the Features using the feature_importance_ property.**"
      ]
    },
    {
      "cell_type": "code",
      "metadata": {
        "id": "n8ZOWsCUSJ3N",
        "colab_type": "code",
        "outputId": "a975b7c2-d962-4be8-f581-f55119e2f467",
        "colab": {
          "base_uri": "https://localhost:8080/",
          "height": 204
        }
      },
      "source": [
        "feature_imp = pd.Series(clf.feature_importances_,index=dataset.columns[:-1]).sort_values(ascending=False)\n",
        "feature_imp"
      ],
      "execution_count": 34,
      "outputs": [
        {
          "output_type": "execute_result",
          "data": {
            "text/plain": [
              "alkphos     0.159913\n",
              "sgot        0.152174\n",
              "age         0.137992\n",
              "TB          0.132919\n",
              "sgpt        0.117005\n",
              "DB          0.111638\n",
              "albumin     0.076041\n",
              "TP          0.059068\n",
              "AG_ratio    0.048074\n",
              "gender      0.005176\n",
              "dtype: float64"
            ]
          },
          "metadata": {
            "tags": []
          },
          "execution_count": 34
        }
      ]
    },
    {
      "cell_type": "code",
      "metadata": {
        "id": "Hb1lWoCoSbJT",
        "colab_type": "code",
        "outputId": "5582d370-ceb4-460a-e473-85f524b8cbf7",
        "colab": {
          "base_uri": "https://localhost:8080/",
          "height": 295
        }
      },
      "source": [
        "%matplotlib inline\n",
        "sns.barplot(x=feature_imp, y=feature_imp.index)\n",
        "plt.xlabel('Feature Importance Score')\n",
        "plt.ylabel('Features')\n",
        "plt.title(\"Visualizing Important Features\")\n",
        "plt.show()"
      ],
      "execution_count": 35,
      "outputs": [
        {
          "output_type": "display_data",
          "data": {
            "image/png": "[encoded data removed]",
            "text/plain": [
              "<Figure size 432x288 with 1 Axes>"
            ]
          },
          "metadata": {
            "tags": [],
            "needs_background": "light"
          }
        }
      ]
    },
    {
      "cell_type": "markdown",
      "metadata": {
        "id": "k1jR-IpJTvyI",
        "colab_type": "text"
      },
      "source": [
        "Generating the model on the selected features, removing the gender and AG_ratio features."
      ]
    },
    {
      "cell_type": "code",
      "metadata": {
        "id": "46hXuLEcT8cj",
        "colab_type": "code",
        "colab": {}
      },
      "source": [
        "x_FS = dataset[['age', 'TB', 'alkphos', 'sgot', 'TP', 'AG_ratio']]\n",
        "y_FS = dataset['Is_liverPatient']"
      ],
      "execution_count": 0,
      "outputs": []
    },
    {
      "cell_type": "code",
      "metadata": {
        "id": "MHnk5ELNUOCX",
        "colab_type": "code",
        "colab": {}
      },
      "source": [
        "X_train_FS,X_test_FS,y_train_FS,y_test_FS=train_test_split(x_FS,y_FS,test_size=0.30,random_state=42)"
      ],
      "execution_count": 0,
      "outputs": []
    },
    {
      "cell_type": "code",
      "metadata": {
        "id": "eMoAfsAKUiUJ",
        "colab_type": "code",
        "outputId": "1d7ca7a4-c423-4659-e4ec-89c3c22e874c",
        "colab": {
          "base_uri": "https://localhost:8080/",
          "height": 153
        }
      },
      "source": [
        "FS_clf = RandomForestClassifier(n_estimators=10,max_depth=5)\n",
        "FS_clf.fit(X_train_FS,y_train_FS)"
      ],
      "execution_count": 57,
      "outputs": [
        {
          "output_type": "execute_result",
          "data": {
            "text/plain": [
              "RandomForestClassifier(bootstrap=True, ccp_alpha=0.0, class_weight=None,\n",
              "                       criterion='gini', max_depth=5, max_features='auto',\n",
              "                       max_leaf_nodes=None, max_samples=None,\n",
              "                       min_impurity_decrease=0.0, min_impurity_split=None,\n",
              "                       min_samples_leaf=1, min_samples_split=2,\n",
              "                       min_weight_fraction_leaf=0.0, n_estimators=10,\n",
              "                       n_jobs=None, oob_score=False, random_state=None,\n",
              "                       verbose=0, warm_start=False)"
            ]
          },
          "metadata": {
            "tags": []
          },
          "execution_count": 57
        }
      ]
    },
    {
      "cell_type": "code",
      "metadata": {
        "id": "Z5ZPbJ8aVCcV",
        "colab_type": "code",
        "colab": {}
      },
      "source": [
        "y_pred_FS = FS_clf.predict(X_test_FS)"
      ],
      "execution_count": 0,
      "outputs": []
    },
    {
      "cell_type": "code",
      "metadata": {
        "id": "O5pBPMX5VFyX",
        "colab_type": "code",
        "outputId": "35c59f23-6ef8-4c5f-d50c-186a76a2c019",
        "colab": {
          "base_uri": "https://localhost:8080/",
          "height": 34
        }
      },
      "source": [
        "print(\"Accuracy:\",accuracy_score(y_test_FS, y_pred_FS))"
      ],
      "execution_count": 59,
      "outputs": [
        {
          "output_type": "stream",
          "text": [
            "Accuracy: 0.6705882352941176\n"
          ],
          "name": "stdout"
        }
      ]
    },
    {
      "cell_type": "markdown",
      "metadata": {
        "id": "-ROM-gSI-8bb",
        "colab_type": "text"
      },
      "source": [
        "The accuracy score after removing one of the features that were strongly correlated amongst themselves and the least important feature - gender.\n",
        "**Accuracy :- 0.6705882352941176**"
      ]
    },
    {
      "cell_type": "markdown",
      "metadata": {
        "id": "uhit6Y50lyqL",
        "colab_type": "text"
      },
      "source": [
        "**Hyperparameter Tuning With Grid Search**"
      ]
    },
    {
      "cell_type": "code",
      "metadata": {
        "id": "Pnw_qlMYl0Av",
        "colab_type": "code",
        "colab": {}
      },
      "source": [
        "gridsearch_forest = RandomForestClassifier()"
      ],
      "execution_count": 0,
      "outputs": []
    },
    {
      "cell_type": "code",
      "metadata": {
        "id": "Vb9g-2Uul853",
        "colab_type": "code",
        "outputId": "6dce234b-fd99-4a65-8e77-c4673f28fd95",
        "colab": {
          "base_uri": "https://localhost:8080/",
          "height": 408
        }
      },
      "source": [
        "params = {\n",
        "    \"n_estimators\": [50, 10, 100],\n",
        "    \"max_depth\": [5,10,20],\n",
        "    \"min_samples_leaf\" : [10, 1, 5],\n",
        "    \"criterion\" : ['gini','entropy']\n",
        "}\n",
        "\n",
        "clf = GridSearchCV(gridsearch_forest, param_grid=params, cv=5 )\n",
        "clf.fit(X,y)"
      ],
      "execution_count": 74,
      "outputs": [
        {
          "output_type": "execute_result",
          "data": {
            "text/plain": [
              "GridSearchCV(cv=5, error_score=nan,\n",
              "             estimator=RandomForestClassifier(bootstrap=True, ccp_alpha=0.0,\n",
              "                                              class_weight=None,\n",
              "                                              criterion='gini', max_depth=None,\n",
              "                                              max_features='auto',\n",
              "                                              max_leaf_nodes=None,\n",
              "                                              max_samples=None,\n",
              "                                              min_impurity_decrease=0.0,\n",
              "                                              min_impurity_split=None,\n",
              "                                              min_samples_leaf=1,\n",
              "                                              min_samples_split=2,\n",
              "                                              min_weight_fraction_leaf=0.0,\n",
              "                                              n_estimators=100, n_jobs=None,\n",
              "                                              oob_score=False,\n",
              "                                              random_state=None, verbose=0,\n",
              "                                              warm_start=False),\n",
              "             iid='deprecated', n_jobs=None,\n",
              "             param_grid={'criterion': ['gini', 'entropy'],\n",
              "                         'max_depth': [5, 10, 20],\n",
              "                         'min_samples_leaf': [10, 1, 5],\n",
              "                         'n_estimators': [50, 10, 100]},\n",
              "             pre_dispatch='2*n_jobs', refit=True, return_train_score=False,\n",
              "             scoring=None, verbose=0)"
            ]
          },
          "metadata": {
            "tags": []
          },
          "execution_count": 74
        }
      ]
    },
    {
      "cell_type": "code",
      "metadata": {
        "id": "aENypTsdmNwd",
        "colab_type": "code",
        "outputId": "d1e06d67-6b2e-497d-bfca-e47936ddead4",
        "colab": {
          "base_uri": "https://localhost:8080/",
          "height": 85
        }
      },
      "source": [
        "clf.best_params_"
      ],
      "execution_count": 75,
      "outputs": [
        {
          "output_type": "execute_result",
          "data": {
            "text/plain": [
              "{'criterion': 'entropy',\n",
              " 'max_depth': 20,\n",
              " 'min_samples_leaf': 1,\n",
              " 'n_estimators': 100}"
            ]
          },
          "metadata": {
            "tags": []
          },
          "execution_count": 75
        }
      ]
    },
    {
      "cell_type": "code",
      "metadata": {
        "id": "mdFbSWkVmfN-",
        "colab_type": "code",
        "outputId": "1b611a5a-cdf6-4f08-849c-7a2a8e1eecdd",
        "colab": {
          "base_uri": "https://localhost:8080/",
          "height": 34
        }
      },
      "source": [
        "clf.best_score_"
      ],
      "execution_count": 76,
      "outputs": [
        {
          "output_type": "execute_result",
          "data": {
            "text/plain": [
              "0.7102623816177612"
            ]
          },
          "metadata": {
            "tags": []
          },
          "execution_count": 76
        }
      ]
    },
    {
      "cell_type": "code",
      "metadata": {
        "id": "in7jDLOKmmp-",
        "colab_type": "code",
        "outputId": "0f2bf806-4118-48ee-dc1f-e529940cc648",
        "colab": {
          "base_uri": "https://localhost:8080/",
          "height": 34
        }
      },
      "source": [
        "#lets try these parameters\n",
        "#'max_depth': 15, 'min_samples_leaf': 1, 'n_estimators': 100\n",
        "new_clf = RandomForestClassifier(max_depth=10,n_estimators=50,min_samples_leaf=10,criterion='gini')\n",
        "new_clf.fit(X_train,y_train)\n",
        "y_predict = new_clf.predict(X_test)\n",
        "print(\"Accuracy:\",accuracy_score(y_test, y_predict))"
      ],
      "execution_count": 72,
      "outputs": [
        {
          "output_type": "stream",
          "text": [
            "Accuracy: 0.7235294117647059\n"
          ],
          "name": "stdout"
        }
      ]
    },
    {
      "cell_type": "markdown",
      "metadata": {
        "id": "HuO0mA16_6kQ",
        "colab_type": "text"
      },
      "source": [
        "Final highest accuracy achieved : **Accuracy :- 0.7294117647058823 ~ 73%**"
      ]
    }
  ]
}